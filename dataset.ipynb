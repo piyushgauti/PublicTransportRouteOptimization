{
  "nbformat": 4,
  "nbformat_minor": 0,
  "metadata": {
    "colab": {
      "provenance": []
    },
    "kernelspec": {
      "name": "python3",
      "display_name": "Python 3"
    },
    "language_info": {
      "name": "python"
    }
  },
  "cells": [
    {
      "cell_type": "code",
      "source": [
        "!pip install osmnx folium requests pandas openweather-api"
      ],
      "metadata": {
        "colab": {
          "base_uri": "https://localhost:8080/"
        },
        "id": "2btN2kJ5YTQU",
        "outputId": "c14dbfd1-8e00-4f65-e5c3-e4a5b0377eda"
      },
      "execution_count": null,
      "outputs": [
        {
          "output_type": "stream",
          "name": "stdout",
          "text": [
            "Collecting osmnx\n",
            "  Downloading osmnx-1.9.4-py3-none-any.whl.metadata (4.9 kB)\n",
            "Requirement already satisfied: folium in /usr/local/lib/python3.10/dist-packages (0.18.0)\n",
            "Requirement already satisfied: requests in /usr/local/lib/python3.10/dist-packages (2.32.3)\n",
            "Requirement already satisfied: pandas in /usr/local/lib/python3.10/dist-packages (2.2.2)\n",
            "Collecting openweather-api\n",
            "  Downloading openweather_api-0.1.0-py3-none-any.whl.metadata (1.3 kB)\n",
            "Collecting geopandas<0.15,>=0.12 (from osmnx)\n",
            "  Downloading geopandas-0.14.4-py3-none-any.whl.metadata (1.5 kB)\n",
            "Collecting networkx<3.4,>=2.5 (from osmnx)\n",
            "  Downloading networkx-3.3-py3-none-any.whl.metadata (5.1 kB)\n",
            "Requirement already satisfied: numpy<1.27,>=1.20 in /usr/local/lib/python3.10/dist-packages (from osmnx) (1.26.4)\n",
            "Requirement already satisfied: shapely<2.1,>=2.0 in /usr/local/lib/python3.10/dist-packages (from osmnx) (2.0.6)\n",
            "Requirement already satisfied: branca>=0.6.0 in /usr/local/lib/python3.10/dist-packages (from folium) (0.8.0)\n",
            "Requirement already satisfied: jinja2>=2.9 in /usr/local/lib/python3.10/dist-packages (from folium) (3.1.4)\n",
            "Requirement already satisfied: xyzservices in /usr/local/lib/python3.10/dist-packages (from folium) (2024.9.0)\n",
            "Requirement already satisfied: charset-normalizer<4,>=2 in /usr/local/lib/python3.10/dist-packages (from requests) (3.4.0)\n",
            "Requirement already satisfied: idna<4,>=2.5 in /usr/local/lib/python3.10/dist-packages (from requests) (3.10)\n",
            "Requirement already satisfied: urllib3<3,>=1.21.1 in /usr/local/lib/python3.10/dist-packages (from requests) (2.2.3)\n",
            "Requirement already satisfied: certifi>=2017.4.17 in /usr/local/lib/python3.10/dist-packages (from requests) (2024.8.30)\n",
            "Requirement already satisfied: python-dateutil>=2.8.2 in /usr/local/lib/python3.10/dist-packages (from pandas) (2.8.2)\n",
            "Requirement already satisfied: pytz>=2020.1 in /usr/local/lib/python3.10/dist-packages (from pandas) (2024.2)\n",
            "Requirement already satisfied: tzdata>=2022.7 in /usr/local/lib/python3.10/dist-packages (from pandas) (2024.2)\n",
            "Collecting iso3166>=1.0.1 (from openweather-api)\n",
            "  Downloading iso3166-2.1.1-py3-none-any.whl.metadata (6.6 kB)\n",
            "Collecting fiona>=1.8.21 (from geopandas<0.15,>=0.12->osmnx)\n",
            "  Downloading fiona-1.10.1-cp310-cp310-manylinux_2_17_x86_64.manylinux2014_x86_64.whl.metadata (56 kB)\n",
            "\u001b[2K     \u001b[90m━━━━━━━━━━━━━━━━━━━━━━━━━━━━━━━━━━━━━━━━\u001b[0m \u001b[32m56.6/56.6 kB\u001b[0m \u001b[31m3.8 MB/s\u001b[0m eta \u001b[36m0:00:00\u001b[0m\n",
            "\u001b[?25hRequirement already satisfied: packaging in /usr/local/lib/python3.10/dist-packages (from geopandas<0.15,>=0.12->osmnx) (24.1)\n",
            "Requirement already satisfied: pyproj>=3.3.0 in /usr/local/lib/python3.10/dist-packages (from geopandas<0.15,>=0.12->osmnx) (3.7.0)\n",
            "Requirement already satisfied: MarkupSafe>=2.0 in /usr/local/lib/python3.10/dist-packages (from jinja2>=2.9->folium) (3.0.2)\n",
            "Requirement already satisfied: six>=1.5 in /usr/local/lib/python3.10/dist-packages (from python-dateutil>=2.8.2->pandas) (1.16.0)\n",
            "Requirement already satisfied: attrs>=19.2.0 in /usr/local/lib/python3.10/dist-packages (from fiona>=1.8.21->geopandas<0.15,>=0.12->osmnx) (24.2.0)\n",
            "Requirement already satisfied: click~=8.0 in /usr/local/lib/python3.10/dist-packages (from fiona>=1.8.21->geopandas<0.15,>=0.12->osmnx) (8.1.7)\n",
            "Collecting click-plugins>=1.0 (from fiona>=1.8.21->geopandas<0.15,>=0.12->osmnx)\n",
            "  Downloading click_plugins-1.1.1-py2.py3-none-any.whl.metadata (6.4 kB)\n",
            "Collecting cligj>=0.5 (from fiona>=1.8.21->geopandas<0.15,>=0.12->osmnx)\n",
            "  Downloading cligj-0.7.2-py3-none-any.whl.metadata (5.0 kB)\n",
            "Downloading osmnx-1.9.4-py3-none-any.whl (107 kB)\n",
            "\u001b[2K   \u001b[90m━━━━━━━━━━━━━━━━━━━━━━━━━━━━━━━━━━━━━━━━\u001b[0m \u001b[32m107.5/107.5 kB\u001b[0m \u001b[31m9.6 MB/s\u001b[0m eta \u001b[36m0:00:00\u001b[0m\n",
            "\u001b[?25hDownloading openweather_api-0.1.0-py3-none-any.whl (7.3 kB)\n",
            "Downloading geopandas-0.14.4-py3-none-any.whl (1.1 MB)\n",
            "\u001b[2K   \u001b[90m━━━━━━━━━━━━━━━━━━━━━━━━━━━━━━━━━━━━━━━━\u001b[0m \u001b[32m1.1/1.1 MB\u001b[0m \u001b[31m54.5 MB/s\u001b[0m eta \u001b[36m0:00:00\u001b[0m\n",
            "\u001b[?25hDownloading iso3166-2.1.1-py3-none-any.whl (9.8 kB)\n",
            "Downloading networkx-3.3-py3-none-any.whl (1.7 MB)\n",
            "\u001b[2K   \u001b[90m━━━━━━━━━━━━━━━━━━━━━━━━━━━━━━━━━━━━━━━━\u001b[0m \u001b[32m1.7/1.7 MB\u001b[0m \u001b[31m66.8 MB/s\u001b[0m eta \u001b[36m0:00:00\u001b[0m\n",
            "\u001b[?25hDownloading fiona-1.10.1-cp310-cp310-manylinux_2_17_x86_64.manylinux2014_x86_64.whl (17.3 MB)\n",
            "\u001b[2K   \u001b[90m━━━━━━━━━━━━━━━━━━━━━━━━━━━━━━━━━━━━━━━━\u001b[0m \u001b[32m17.3/17.3 MB\u001b[0m \u001b[31m88.4 MB/s\u001b[0m eta \u001b[36m0:00:00\u001b[0m\n",
            "\u001b[?25hDownloading click_plugins-1.1.1-py2.py3-none-any.whl (7.5 kB)\n",
            "Downloading cligj-0.7.2-py3-none-any.whl (7.1 kB)\n",
            "Installing collected packages: networkx, iso3166, cligj, click-plugins, openweather-api, fiona, geopandas, osmnx\n",
            "  Attempting uninstall: networkx\n",
            "    Found existing installation: networkx 3.4.2\n",
            "    Uninstalling networkx-3.4.2:\n",
            "      Successfully uninstalled networkx-3.4.2\n",
            "  Attempting uninstall: geopandas\n",
            "    Found existing installation: geopandas 1.0.1\n",
            "    Uninstalling geopandas-1.0.1:\n",
            "      Successfully uninstalled geopandas-1.0.1\n",
            "Successfully installed click-plugins-1.1.1 cligj-0.7.2 fiona-1.10.1 geopandas-0.14.4 iso3166-2.1.1 networkx-3.3 openweather-api-0.1.0 osmnx-1.9.4\n"
          ]
        }
      ]
    },
    {
      "cell_type": "code",
      "execution_count": null,
      "metadata": {
        "id": "n00wZvKfXdrq"
      },
      "outputs": [],
      "source": [
        "import osmnx as ox\n",
        "import requests\n",
        "import pandas as pd\n",
        "from datetime import datetime, timedelta\n",
        "import time\n",
        "\n",
        "# Define your OpenWeatherMap API key\n",
        "OPENWEATHERMAP_API_KEY = 'ef8bf71f0149b8b49ac4ec1f8ff3a105'\n",
        "\n",
        "# Define function to fetch weather data from OpenWeatherMap\n",
        "def get_weather(lat, lon):\n",
        "    url = f\"http://api.openweathermap.org/data/2.5/weather?lat={lat}&lon={lon}&appid={OPENWEATHERMAP_API_KEY}\"\n",
        "    response = requests.get(url)\n",
        "    data = response.json()\n",
        "\n",
        "    if response.status_code == 200:\n",
        "        weather_info = {\n",
        "            'weather_type': data['weather'][0]['main'],\n",
        "            'temperature': data['main']['temp'] - 273.15,  # Convert from Kelvin to Celsius\n",
        "            'visibility': data.get('visibility', None),     # Visibility in meters\n",
        "            'wind_speed': data['wind'].get('speed', None)   # Wind speed in m/s\n",
        "        }\n",
        "        return weather_info\n",
        "    else:\n",
        "        return None\n"
      ]
    },
    {
      "cell_type": "code",
      "source": [
        "# Define a bounding box around Chandigarh (example coordinates)\n",
        "chandigarh_bbox = (30.6942, 76.7821, 30.7737, 76.8484)  # (south, west, north, east)\n",
        "\n",
        "# Define a central point in Chandigarh (to get initial network)\n",
        "central_point = (30.7333, 76.7794)\n"
      ],
      "metadata": {
        "id": "VMWnSghzZPIL"
      },
      "execution_count": null,
      "outputs": []
    },
    {
      "cell_type": "code",
      "source": [
        "def get_chandigarh_network(bbox, distance=5000):\n",
        "    # Create a graph covering the entire bounding box for Chandigarh\n",
        "    G = ox.graph_from_bbox(bbox[2], bbox[0], bbox[3], bbox[1], network_type='drive')\n",
        "    nodes, edges = ox.graph_to_gdfs(G)\n",
        "    return nodes, edges\n",
        "\n",
        "# Use the updated function to get nodes and edges within Chandigarh\n",
        "nodes, edges = get_chandigarh_network(chandigarh_bbox)\n"
      ],
      "metadata": {
        "colab": {
          "base_uri": "https://localhost:8080/"
        },
        "id": "IoMu-Zd3ZaHP",
        "outputId": "c10e1e33-c0de-4c70-ec67-ba9654de8e42"
      },
      "execution_count": null,
      "outputs": [
        {
          "output_type": "stream",
          "name": "stderr",
          "text": [
            "<ipython-input-7-e921280640fe>:3: FutureWarning: The `north`, `south`, `east`, and `west` parameters are deprecated and will be removed in the v2.0.0 release. Use the `bbox` parameter instead. See the OSMnx v2 migration guide: https://github.com/gboeing/osmnx/issues/1123\n",
            "  G = ox.graph_from_bbox(bbox[2], bbox[0], bbox[3], bbox[1], network_type='drive')\n",
            "<ipython-input-7-e921280640fe>:3: FutureWarning: The expected order of coordinates in `bbox` will change in the v2.0.0 release to `(left, bottom, right, top)`.\n",
            "  G = ox.graph_from_bbox(bbox[2], bbox[0], bbox[3], bbox[1], network_type='drive')\n"
          ]
        }
      ]
    },
    {
      "cell_type": "code",
      "source": [
        "def collect_chandigarh_data(nodes, edges):\n",
        "    data = []\n",
        "    for _, row in edges.iterrows():\n",
        "        segment = {\n",
        "            'segment_id': row['osmid'],\n",
        "            'length': row['length'],\n",
        "            'road_type': row['highway'],\n",
        "            'geometry': row['geometry'],\n",
        "            'start_lat': row['geometry'].coords[0][1],\n",
        "            'start_lon': row['geometry'].coords[0][0],\n",
        "            'end_lat': row['geometry'].coords[-1][1],\n",
        "            'end_lon': row['geometry'].coords[-1][0]\n",
        "        }\n",
        "\n",
        "        # Fetch weather for the midpoint of each segment\n",
        "        mid_lat = (segment['start_lat'] + segment['end_lat']) / 2\n",
        "        mid_lon = (segment['start_lon'] + segment['end_lon']) / 2\n",
        "        weather = get_weather(mid_lat, mid_lon)\n",
        "\n",
        "        segment.update({\n",
        "            'temperature': weather['temperature'] if weather else None,\n",
        "            'weather_type': weather['weather_type'] if weather else None,\n",
        "            'visibility': weather['visibility'] if weather else None,\n",
        "            'wind_speed': weather['wind_speed'] if weather else None,\n",
        "            'date_time': datetime.now()\n",
        "        })\n",
        "\n",
        "        data.append(segment)\n",
        "\n",
        "        # Sleep to avoid hitting API limits\n",
        "        time.sleep(1)\n",
        "\n",
        "    return pd.DataFrame(data)\n",
        "\n",
        "# Run the function and save the data\n",
        "chandigarh_data = collect_chandigarh_data(nodes, edges)\n",
        "chandigarh_data.to_csv('chandigarh_route_data.csv', index=False)\n"
      ],
      "metadata": {
        "id": "2kZw9Z9aZdGw"
      },
      "execution_count": null,
      "outputs": []
    },
    {
      "cell_type": "code",
      "source": [
        "import random\n",
        "\n",
        "def simulate_traffic(data):\n",
        "    traffic_conditions = ['low', 'medium', 'high']\n",
        "    data['traffic_condition'] = data['length'].apply(lambda x: random.choice(traffic_conditions))\n",
        "    data['average_speed'] = data['traffic_condition'].apply(lambda x: random.uniform(20, 40) if x == 'low' else random.uniform(10, 20) if x == 'medium' else random.uniform(5, 10))\n",
        "    data['travel_time'] = data['length'] / data['average_speed'] * 60  # Travel time in minutes\n",
        "    return data\n",
        "\n",
        "# Apply simulated traffic to dataset\n",
        "chandigarh_data = simulate_traffic(chandigarh_data)\n",
        "chandigarh_data.to_csv('chandigarh_route_data_with_traffic.csv', index=False)\n",
        "\n"
      ],
      "metadata": {
        "id": "gIF6psfHa74T"
      },
      "execution_count": null,
      "outputs": []
    },
    {
      "cell_type": "code",
      "source": [
        "from google.colab import files\n",
        "\n",
        "# Download the CSV file\n",
        "files.download('chandigarh_route_data_with_traffic.csv')\n"
      ],
      "metadata": {
        "colab": {
          "base_uri": "https://localhost:8080/",
          "height": 17
        },
        "id": "Zb0O5PTiPxfa",
        "outputId": "0ab6ac45-3cc9-4161-98a7-0ebd7f4ba6df"
      },
      "execution_count": null,
      "outputs": [
        {
          "output_type": "display_data",
          "data": {
            "text/plain": [
              "<IPython.core.display.Javascript object>"
            ],
            "application/javascript": [
              "\n",
              "    async function download(id, filename, size) {\n",
              "      if (!google.colab.kernel.accessAllowed) {\n",
              "        return;\n",
              "      }\n",
              "      const div = document.createElement('div');\n",
              "      const label = document.createElement('label');\n",
              "      label.textContent = `Downloading \"${filename}\": `;\n",
              "      div.appendChild(label);\n",
              "      const progress = document.createElement('progress');\n",
              "      progress.max = size;\n",
              "      div.appendChild(progress);\n",
              "      document.body.appendChild(div);\n",
              "\n",
              "      const buffers = [];\n",
              "      let downloaded = 0;\n",
              "\n",
              "      const channel = await google.colab.kernel.comms.open(id);\n",
              "      // Send a message to notify the kernel that we're ready.\n",
              "      channel.send({})\n",
              "\n",
              "      for await (const message of channel.messages) {\n",
              "        // Send a message to notify the kernel that we're ready.\n",
              "        channel.send({})\n",
              "        if (message.buffers) {\n",
              "          for (const buffer of message.buffers) {\n",
              "            buffers.push(buffer);\n",
              "            downloaded += buffer.byteLength;\n",
              "            progress.value = downloaded;\n",
              "          }\n",
              "        }\n",
              "      }\n",
              "      const blob = new Blob(buffers, {type: 'application/binary'});\n",
              "      const a = document.createElement('a');\n",
              "      a.href = window.URL.createObjectURL(blob);\n",
              "      a.download = filename;\n",
              "      div.appendChild(a);\n",
              "      a.click();\n",
              "      div.remove();\n",
              "    }\n",
              "  "
            ]
          },
          "metadata": {}
        },
        {
          "output_type": "display_data",
          "data": {
            "text/plain": [
              "<IPython.core.display.Javascript object>"
            ],
            "application/javascript": [
              "download(\"download_86de2b56-dc18-4255-846d-0be2689f2535\", \"chandigarh_route_data_with_traffic.csv\", 3345439)"
            ]
          },
          "metadata": {}
        }
      ]
    }
  ]
}